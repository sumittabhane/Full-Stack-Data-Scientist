{
 "cells": [
  {
   "cell_type": "markdown",
   "id": "65d41e8b",
   "metadata": {},
   "source": [
    "# Basic python Assignment 1"
   ]
  },
  {
   "cell_type": "markdown",
   "id": "7284c8ae",
   "metadata": {},
   "source": [
    "# If-Else Statements"
   ]
  },
  {
   "cell_type": "markdown",
   "id": "51c37482",
   "metadata": {},
   "source": [
    "Question 1: Write a program that takes an integer input from the user and prints \n",
    "whether the number is positive, negative, or zero."
   ]
  },
  {
   "cell_type": "code",
   "execution_count": 3,
   "id": "3b533ece",
   "metadata": {},
   "outputs": [
    {
     "name": "stdout",
     "output_type": "stream",
     "text": [
      "Enter a number: -5\n",
      "Entered number is negative\n"
     ]
    }
   ],
   "source": [
    "num=int(input(\"Enter a number: \"))\n",
    "if num==0:\n",
    "    print(\"Entered number is zero\")\n",
    "elif num>0:\n",
    "    print(\"Entered number is positive\")\n",
    "elif num<0:\n",
    "    print(\"Entered number is negative\")"
   ]
  },
  {
   "cell_type": "markdown",
   "id": "041ba6be",
   "metadata": {},
   "source": [
    "Question 2: Write a program that checks if a given year is a leap year. A leap year is \n",
    "divisible by 4, but not by 100, unless it is also divisible by 400"
   ]
  },
  {
   "cell_type": "code",
   "execution_count": 4,
   "id": "14674e58",
   "metadata": {},
   "outputs": [
    {
     "name": "stdout",
     "output_type": "stream",
     "text": [
      "Enter a year: 2004\n",
      "2004 is a leap year\n"
     ]
    }
   ],
   "source": [
    "year=int(input(\"Enter a year: \"))\n",
    "if year%4==0 :\n",
    "    print(f\"{year} is a leap year\")\n",
    "elif year%400==0 :\n",
    "    print(f\"{year} is a leap year\")\n",
    "elif year%100!=0 :\n",
    "    print(f\"{year} is not a leap year\")\n",
    "else:\n",
    "    print(f\"{year} is not a leap year\")"
   ]
  },
  {
   "cell_type": "markdown",
   "id": "e94ff691",
   "metadata": {},
   "source": [
    "# For Loops"
   ]
  },
  {
   "cell_type": "markdown",
   "id": "97e0224f",
   "metadata": {},
   "source": [
    " Question 3: Write a program that prints the first 10 natural numbers using a for loop."
   ]
  },
  {
   "cell_type": "code",
   "execution_count": 5,
   "id": "f955e5f3",
   "metadata": {},
   "outputs": [
    {
     "name": "stdout",
     "output_type": "stream",
     "text": [
      "0\n",
      "1\n",
      "2\n",
      "3\n",
      "4\n",
      "5\n",
      "6\n",
      "7\n",
      "8\n",
      "9\n",
      "10\n"
     ]
    }
   ],
   "source": [
    "for i in range(11):\n",
    "    print(i)"
   ]
  },
  {
   "cell_type": "markdown",
   "id": "7cb04e2e",
   "metadata": {},
   "source": [
    " Question 4: Write a program that calculates and prints the sum of all even numbers from 1 to 50"
   ]
  },
  {
   "cell_type": "code",
   "execution_count": 10,
   "id": "f7a48166",
   "metadata": {},
   "outputs": [
    {
     "name": "stdout",
     "output_type": "stream",
     "text": [
      "Sum of all even numbers from 1 to 50 is :  650\n"
     ]
    }
   ],
   "source": [
    "sum=0\n",
    "for i in range(1,51):\n",
    "    if i%2==0:\n",
    "        sum+=i\n",
    "print(\"Sum of all even numbers from 1 to 50 is : \",sum)\n"
   ]
  },
  {
   "cell_type": "markdown",
   "id": "dd22d7ef",
   "metadata": {},
   "source": [
    " Question 5: Write a program that takes a list of integers and prints each number in the list that is greater than 10"
   ]
  },
  {
   "cell_type": "code",
   "execution_count": 21,
   "id": "858593ae",
   "metadata": {},
   "outputs": [
    {
     "name": "stdout",
     "output_type": "stream",
     "text": [
      "Number of integer you want to enter: 5\n",
      "Enter 1th element: 1\n",
      "Enter 2th element: 12\n",
      "Enter 3th element: 55\n",
      "Enter 4th element: 4\n",
      "Enter 5th element: 65\n",
      "Elements Greater than 10 are: \n",
      "12\n",
      "55\n",
      "65\n"
     ]
    }
   ],
   "source": [
    "num_of_int=int(input(\"Number of integer you want to enter: \"))\n",
    "list_int=[]\n",
    "for j in range(num_of_int):\n",
    "    inp=int(input(f\"Enter {j+1}th element: \"))\n",
    "    list_int.append(inp)\n",
    "\n",
    "print(\"Elements Greater than 10 are: \")\n",
    "for i in list_int:\n",
    "    if i > 10:\n",
    "        print(i)\n",
    "\n"
   ]
  },
  {
   "cell_type": "markdown",
   "id": "ddca1638",
   "metadata": {},
   "source": [
    " Question 6: Write a program that takes an integer input from the user and prints the multiplication table for that number up to 10"
   ]
  },
  {
   "cell_type": "code",
   "execution_count": 22,
   "id": "86db91aa",
   "metadata": {},
   "outputs": [
    {
     "name": "stdout",
     "output_type": "stream",
     "text": [
      "Table of: 6\n",
      "6 * 1 = 6\n",
      "6 * 2 = 12\n",
      "6 * 3 = 18\n",
      "6 * 4 = 24\n",
      "6 * 5 = 30\n",
      "6 * 6 = 36\n",
      "6 * 7 = 42\n",
      "6 * 8 = 48\n",
      "6 * 9 = 54\n",
      "6 * 10 = 60\n"
     ]
    }
   ],
   "source": [
    "tableof=int(input(\"Table of: \"))\n",
    "for i in range(1,11):\n",
    "    print(tableof ,'*', i,\"=\",tableof*i)"
   ]
  },
  {
   "cell_type": "markdown",
   "id": "2d359a65",
   "metadata": {},
   "source": [
    "# While loop"
   ]
  },
  {
   "cell_type": "markdown",
   "id": "667f624c",
   "metadata": {},
   "source": [
    "Question 7: Write a program that prints the numbers from 1 to 5 using a while loop."
   ]
  },
  {
   "cell_type": "code",
   "execution_count": 23,
   "id": "f3056c43",
   "metadata": {},
   "outputs": [
    {
     "name": "stdout",
     "output_type": "stream",
     "text": [
      "1\n",
      "2\n",
      "3\n",
      "4\n",
      "5\n"
     ]
    }
   ],
   "source": [
    "i=1\n",
    "while i<=5:\n",
    "    print(i)\n",
    "    i+=1"
   ]
  },
  {
   "cell_type": "markdown",
   "id": "e59152b3",
   "metadata": {},
   "source": [
    "Question 8: Write a program that takes an integer input from the user and prints the factorial of that number using a while loop."
   ]
  },
  {
   "cell_type": "code",
   "execution_count": 3,
   "id": "b238c810",
   "metadata": {},
   "outputs": [
    {
     "name": "stdout",
     "output_type": "stream",
     "text": [
      "Enter number: 5\n",
      "120\n"
     ]
    }
   ],
   "source": [
    "n = int(input(\"Enter number: \"))\n",
    "fact = 1\n",
    "while n > 0:\n",
    "    fact *= n\n",
    "    n -= 1\n",
    "print(fact)"
   ]
  },
  {
   "cell_type": "markdown",
   "id": "e6058b50",
   "metadata": {},
   "source": [
    " Question 9: Write a program that takes a list of integers and calculates the sum of all elements using a while loop"
   ]
  },
  {
   "cell_type": "code",
   "execution_count": 5,
   "id": "3c360275",
   "metadata": {},
   "outputs": [
    {
     "name": "stdout",
     "output_type": "stream",
     "text": [
      "Number of integer you want to enter: 5\n",
      "Enter 1th element: 1\n",
      "Enter 2th element: 5\n",
      "Enter 3th element: 4\n",
      "Enter 4th element: 6\n",
      "Enter 5th element: 4\n",
      "Sum of element in list is:  20\n"
     ]
    }
   ],
   "source": [
    "num_of_int=int(input(\"Number of integer you want to enter: \"))\n",
    "list_int=[]\n",
    "for j in range(num_of_int):\n",
    "    inp=int(input(f\"Enter {j+1}th element: \"))\n",
    "    list_int.append(inp)\n",
    "    \n",
    "index = 0\n",
    "sum = 0\n",
    "while index < len(list_int):\n",
    "    sum += list_int[index]\n",
    "    index+=1\n",
    "print(\"Sum of element in list is: \",sum)"
   ]
  },
  {
   "cell_type": "markdown",
   "id": "6f437e8c",
   "metadata": {},
   "source": [
    "# Combining Loops and Conditional Statements"
   ]
  },
  {
   "cell_type": "markdown",
   "id": "e3428aa8",
   "metadata": {},
   "source": [
    "Question 10: Write a program that prints all the numbers from 1 to 20. For multiples of 3, print \"Fizz\" instead of the number, and for multiples of 5, print \"Buzz\". For numbers  that are multiples of both 3 and 5, print \"FizzBuzz\""
   ]
  },
  {
   "cell_type": "code",
   "execution_count": 7,
   "id": "6d8d9714",
   "metadata": {},
   "outputs": [
    {
     "name": "stdout",
     "output_type": "stream",
     "text": [
      "1\n",
      "2\n",
      "Fizz\n",
      "4\n",
      "Buzz\n",
      "Fizz\n",
      "7\n",
      "8\n",
      "Fizz\n",
      "Buzz\n",
      "11\n",
      "Fizz\n",
      "13\n",
      "14\n",
      "FizzBuzz\n",
      "16\n",
      "17\n",
      "Fizz\n",
      "19\n"
     ]
    }
   ],
   "source": [
    "for i in range(1,20):\n",
    "    if (i%3==0) & (i%5==0):\n",
    "        print('FizzBuzz')\n",
    "    elif i %3==0:\n",
    "        print('Fizz')\n",
    "    elif i%5==0:\n",
    "        print('Buzz')\n",
    "    else:\n",
    "        print(i)"
   ]
  },
  {
   "cell_type": "code",
   "execution_count": null,
   "id": "9dab56cd",
   "metadata": {},
   "outputs": [],
   "source": []
  }
 ],
 "metadata": {
  "kernelspec": {
   "display_name": "Python 3 (ipykernel)",
   "language": "python",
   "name": "python3"
  },
  "language_info": {
   "codemirror_mode": {
    "name": "ipython",
    "version": 3
   },
   "file_extension": ".py",
   "mimetype": "text/x-python",
   "name": "python",
   "nbconvert_exporter": "python",
   "pygments_lexer": "ipython3",
   "version": "3.11.4"
  }
 },
 "nbformat": 4,
 "nbformat_minor": 5
}
