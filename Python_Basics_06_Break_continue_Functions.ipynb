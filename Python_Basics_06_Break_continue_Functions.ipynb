{
 "cells": [
  {
   "cell_type": "markdown",
   "id": "6e131075",
   "metadata": {},
   "source": [
    "# Break"
   ]
  },
  {
   "cell_type": "code",
   "execution_count": 1,
   "id": "529094b8",
   "metadata": {},
   "outputs": [],
   "source": [
    "l=[1,2,3,4,5]"
   ]
  },
  {
   "cell_type": "code",
   "execution_count": 2,
   "id": "4372cb2c",
   "metadata": {},
   "outputs": [
    {
     "name": "stdout",
     "output_type": "stream",
     "text": [
      "1\n",
      "2\n",
      "3\n"
     ]
    }
   ],
   "source": [
    "for i in l:\n",
    "    if i==4:\n",
    "        break #It is used to control the sequence of the loop. Suppose you want to terminate a loop and skip to the next code after the loop\n",
    "    print(i)"
   ]
  },
  {
   "cell_type": "markdown",
   "id": "1ecd4256",
   "metadata": {},
   "source": [
    "# Continue"
   ]
  },
  {
   "cell_type": "code",
   "execution_count": 3,
   "id": "12de33e7",
   "metadata": {},
   "outputs": [
    {
     "name": "stdout",
     "output_type": "stream",
     "text": [
      "1\n",
      "2\n",
      "4\n",
      "5\n"
     ]
    }
   ],
   "source": [
    "for i in l:\n",
    "    if i == 3:\n",
    "        continue #The continue statement in Python is used to skip the remaining code inside a loop for the current iteration only\n",
    "    print(i)"
   ]
  },
  {
   "cell_type": "markdown",
   "id": "727ff2b2",
   "metadata": {},
   "source": [
    "# Pass"
   ]
  },
  {
   "cell_type": "code",
   "execution_count": 4,
   "id": "ec9a9e95",
   "metadata": {},
   "outputs": [
    {
     "name": "stdout",
     "output_type": "stream",
     "text": [
      "1\n",
      "2\n",
      "3\n",
      "4\n",
      "5\n"
     ]
    }
   ],
   "source": [
    "for i in l:\n",
    "    if i == 4:\n",
    "        pass\n",
    "    print(i)"
   ]
  },
  {
   "cell_type": "code",
   "execution_count": 5,
   "id": "d92a1b06",
   "metadata": {},
   "outputs": [
    {
     "name": "stdout",
     "output_type": "stream",
     "text": [
      "1\n",
      "2\n",
      "3\n",
      "5\n"
     ]
    }
   ],
   "source": [
    "for i in l:\n",
    "    if i == 4:\n",
    "        pass\n",
    "    else:\n",
    "        print(i)"
   ]
  },
  {
   "cell_type": "code",
   "execution_count": 6,
   "id": "816060fc",
   "metadata": {},
   "outputs": [],
   "source": [
    " #The pass statement in Python is used when a statement or a condition is required to be present in the program, but we don't want any command or code to execute."
   ]
  },
  {
   "cell_type": "markdown",
   "id": "6324e4b8",
   "metadata": {},
   "source": [
    "# Function"
   ]
  },
  {
   "cell_type": "code",
   "execution_count": 8,
   "id": "c26bbffb",
   "metadata": {},
   "outputs": [],
   "source": [
    "type?"
   ]
  },
  {
   "cell_type": "code",
   "execution_count": 9,
   "id": "97d1c1f3",
   "metadata": {},
   "outputs": [],
   "source": [
    "def test(a):\n",
    "    \"\"\" Test will write argument as it is \"\"\"\n",
    "    print(a)"
   ]
  },
  {
   "cell_type": "code",
   "execution_count": 10,
   "id": "74affb07",
   "metadata": {},
   "outputs": [
    {
     "name": "stdout",
     "output_type": "stream",
     "text": [
      "1\n"
     ]
    }
   ],
   "source": [
    "test(1)"
   ]
  },
  {
   "cell_type": "code",
   "execution_count": 11,
   "id": "0efeb5ce",
   "metadata": {},
   "outputs": [],
   "source": [
    "def test2(a):\n",
    "    \"\"\" Test will write argument as it is \"\"\"\n",
    "    return(a)"
   ]
  },
  {
   "cell_type": "code",
   "execution_count": 12,
   "id": "7132d778",
   "metadata": {},
   "outputs": [
    {
     "data": {
      "text/plain": [
       "5"
      ]
     },
     "execution_count": 12,
     "metadata": {},
     "output_type": "execute_result"
    }
   ],
   "source": [
    "test2(5)"
   ]
  },
  {
   "cell_type": "code",
   "execution_count": 13,
   "id": "7f2db23e",
   "metadata": {},
   "outputs": [],
   "source": [
    "def test3(a,b):\n",
    "    return a / b"
   ]
  },
  {
   "cell_type": "code",
   "execution_count": 14,
   "id": "3119af42",
   "metadata": {},
   "outputs": [
    {
     "data": {
      "text/plain": [
       "5.0"
      ]
     },
     "execution_count": 14,
     "metadata": {},
     "output_type": "execute_result"
    }
   ],
   "source": [
    "test3(15,3)"
   ]
  },
  {
   "cell_type": "code",
   "execution_count": 15,
   "id": "7412a0e4",
   "metadata": {},
   "outputs": [],
   "source": [
    "def test4(*args): # *args is used to give n numbers of inputs in a function\n",
    "    return args"
   ]
  },
  {
   "cell_type": "code",
   "execution_count": 16,
   "id": "4a3eb77c",
   "metadata": {},
   "outputs": [
    {
     "data": {
      "text/plain": [
       "(1, 2, 3, 4, 5, 6)"
      ]
     },
     "execution_count": 16,
     "metadata": {},
     "output_type": "execute_result"
    }
   ],
   "source": [
    "test4(1,2,3,4,5,6)# *args returns the data in form of tuple"
   ]
  },
  {
   "cell_type": "code",
   "execution_count": 18,
   "id": "44188501",
   "metadata": {},
   "outputs": [
    {
     "data": {
      "text/plain": [
       "tuple"
      ]
     },
     "execution_count": 18,
     "metadata": {},
     "output_type": "execute_result"
    }
   ],
   "source": [
    "type(test4(1,2,3,4,5,6))"
   ]
  },
  {
   "cell_type": "code",
   "execution_count": 21,
   "id": "107f855d",
   "metadata": {},
   "outputs": [],
   "source": [
    "def test5(a,b,*args):\n",
    "    return a , b , args"
   ]
  },
  {
   "cell_type": "code",
   "execution_count": 22,
   "id": "3e1171d4",
   "metadata": {},
   "outputs": [
    {
     "data": {
      "text/plain": [
       "(10, 20, (1, 2, 3, 4, 5, 6, 7))"
      ]
     },
     "execution_count": 22,
     "metadata": {},
     "output_type": "execute_result"
    }
   ],
   "source": [
    "test7(10,20,1,2,3,4,5,6,7)"
   ]
  },
  {
   "cell_type": "code",
   "execution_count": 23,
   "id": "4f1bb400",
   "metadata": {},
   "outputs": [],
   "source": [
    "def test6(*args):\n",
    "    l = []\n",
    "    for i in args:\n",
    "        if type(i) == int:\n",
    "            l.append(i)\n",
    "    return l"
   ]
  },
  {
   "cell_type": "code",
   "execution_count": 24,
   "id": "52f150a1",
   "metadata": {},
   "outputs": [
    {
     "data": {
      "text/plain": [
       "[10, 4, 5]"
      ]
     },
     "execution_count": 24,
     "metadata": {},
     "output_type": "execute_result"
    }
   ],
   "source": [
    "test6(10,4,5,'Data','Science')"
   ]
  },
  {
   "cell_type": "code",
   "execution_count": 25,
   "id": "3a351f54",
   "metadata": {},
   "outputs": [],
   "source": [
    "# Fun for fetching list type of data\n",
    "def list_type(*args):\n",
    "    l = []\n",
    "    for i in args:\n",
    "        if type(i) == list:\n",
    "            l.append(i)\n",
    "    return l"
   ]
  },
  {
   "cell_type": "code",
   "execution_count": 26,
   "id": "08d53872",
   "metadata": {},
   "outputs": [
    {
     "data": {
      "text/plain": [
       "[[1, 2, 3, 40], [55, 66]]"
      ]
     },
     "execution_count": 26,
     "metadata": {},
     "output_type": "execute_result"
    }
   ],
   "source": [
    "list_type([1,2,3,40],2,2.36,\"Data Science\",{4,5,6},[55,66])"
   ]
  },
  {
   "cell_type": "code",
   "execution_count": 31,
   "id": "83db8d7a",
   "metadata": {},
   "outputs": [],
   "source": [
    "# Function for arguments square\n",
    "def args_sq(*args):\n",
    "    l = []\n",
    "    for i in args:\n",
    "        a=i**2\n",
    "        l.append(a)\n",
    "    return l"
   ]
  },
  {
   "cell_type": "code",
   "execution_count": 32,
   "id": "b67f5284",
   "metadata": {},
   "outputs": [
    {
     "data": {
      "text/plain": [
       "[25, 36, 16, 64]"
      ]
     },
     "execution_count": 32,
     "metadata": {},
     "output_type": "execute_result"
    }
   ],
   "source": [
    "args_sq(5,6,4,8)"
   ]
  },
  {
   "cell_type": "code",
   "execution_count": null,
   "id": "5fd1a044",
   "metadata": {},
   "outputs": [],
   "source": []
  }
 ],
 "metadata": {
  "kernelspec": {
   "display_name": "Python 3 (ipykernel)",
   "language": "python",
   "name": "python3"
  },
  "language_info": {
   "codemirror_mode": {
    "name": "ipython",
    "version": 3
   },
   "file_extension": ".py",
   "mimetype": "text/x-python",
   "name": "python",
   "nbconvert_exporter": "python",
   "pygments_lexer": "ipython3",
   "version": "3.11.4"
  }
 },
 "nbformat": 4,
 "nbformat_minor": 5
}
