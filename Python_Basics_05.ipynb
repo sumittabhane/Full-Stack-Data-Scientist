{
 "cells": [
  {
   "cell_type": "code",
   "execution_count": 15,
   "id": "76a594ee",
   "metadata": {},
   "outputs": [
    {
     "name": "stdout",
     "output_type": "stream",
     "text": [
      "Enter your marks:  37\n",
      "C\n"
     ]
    }
   ],
   "source": [
    "marks=int(input(\"Enter your marks:  \"))\n",
    "if marks>85 and marks<=100:\n",
    "    print(\"A+\")\n",
    "elif marks>65 and marks<=85:\n",
    "    print(\"A\")\n",
    "elif marks>55 and marks<=65:\n",
    "    print(\"B+\")\n",
    "elif marks>45 and marks<=55:\n",
    "    print(\"B\")\n",
    "elif marks>=35 and marks<=45:\n",
    "    print(\"C\")\n",
    "elif marks<35:\n",
    "    print(\"Fail\")\n",
    "else:\n",
    "    print(\"Enter valid marks\")"
   ]
  },
  {
   "cell_type": "markdown",
   "id": "bcf1c002",
   "metadata": {},
   "source": [
    "# For loop"
   ]
  },
  {
   "cell_type": "code",
   "execution_count": 16,
   "id": "cecb7e60",
   "metadata": {},
   "outputs": [],
   "source": [
    "l = [1,2,3,4,5]"
   ]
  },
  {
   "cell_type": "code",
   "execution_count": 17,
   "id": "0b758c22",
   "metadata": {},
   "outputs": [
    {
     "name": "stdout",
     "output_type": "stream",
     "text": [
      "1\n",
      "2\n",
      "3\n",
      "4\n",
      "5\n"
     ]
    }
   ],
   "source": [
    "\n",
    "for num in l:\n",
    "    print(num)"
   ]
  },
  {
   "cell_type": "code",
   "execution_count": 18,
   "id": "94860e05",
   "metadata": {},
   "outputs": [],
   "source": [
    "k = [(10,11,12), ['Data',1,2,3,4], {1,2,3}, {'a':100, 'b':200}]"
   ]
  },
  {
   "cell_type": "code",
   "execution_count": 19,
   "id": "d2f095d5",
   "metadata": {},
   "outputs": [
    {
     "name": "stdout",
     "output_type": "stream",
     "text": [
      "Data\n",
      "1\n",
      "2\n",
      "3\n",
      "4\n"
     ]
    }
   ],
   "source": [
    "for i in k:\n",
    "    if type(i) == list:\n",
    "        for num in i:\n",
    "            print(num)"
   ]
  },
  {
   "cell_type": "code",
   "execution_count": 20,
   "id": "bd11974e",
   "metadata": {},
   "outputs": [
    {
     "name": "stdout",
     "output_type": "stream",
     "text": [
      "<class 'tuple'>\n",
      "<class 'list'>\n",
      "<class 'set'>\n",
      "<class 'dict'>\n"
     ]
    }
   ],
   "source": [
    "for i in k:\n",
    "    print(type(i))"
   ]
  },
  {
   "cell_type": "code",
   "execution_count": 21,
   "id": "ad59182a",
   "metadata": {},
   "outputs": [
    {
     "name": "stdout",
     "output_type": "stream",
     "text": [
      "['Data', 1, 2, 3, 4]\n"
     ]
    }
   ],
   "source": [
    "for i in k:\n",
    "    if type(i) == list:\n",
    "        print(i)"
   ]
  },
  {
   "cell_type": "code",
   "execution_count": null,
   "id": "a7ee1e47",
   "metadata": {},
   "outputs": [],
   "source": []
  }
 ],
 "metadata": {
  "kernelspec": {
   "display_name": "Python 3 (ipykernel)",
   "language": "python",
   "name": "python3"
  },
  "language_info": {
   "codemirror_mode": {
    "name": "ipython",
    "version": 3
   },
   "file_extension": ".py",
   "mimetype": "text/x-python",
   "name": "python",
   "nbconvert_exporter": "python",
   "pygments_lexer": "ipython3",
   "version": "3.11.4"
  }
 },
 "nbformat": 4,
 "nbformat_minor": 5
}
