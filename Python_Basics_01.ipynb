{
 "cells": [
  {
   "cell_type": "raw",
   "id": "8c56d6d6",
   "metadata": {},
   "source": [
    "What is Python?\n",
    ":-Python is a dynamically typed, general purpose programming language that supports an object-oriented programming approach as well as a functional programming approach.\n",
    ":-Python is an interpreted and a high-level programming language.\n",
    ":-Python is simple and easy to understand.\n",
    ":-Python is an open-source programming language."
   ]
  },
  {
   "cell_type": "raw",
   "id": "b8ffaf4f",
   "metadata": {},
   "source": [
    "Why python is used for Data Science / Data Analytics?\n",
    ":- It supports vast number of libraries\n",
    ":- It is easy to use\n",
    ":- It has large number of community"
   ]
  },
  {
   "cell_type": "markdown",
   "id": "753029e3",
   "metadata": {},
   "source": [
    "# Data Types"
   ]
  },
  {
   "cell_type": "markdown",
   "id": "3fcbf9a1",
   "metadata": {},
   "source": [
    "In software programming, data type refers to the type of value a variable has and what type of mathematical, relational or logical operations can be applied without causing an error."
   ]
  },
  {
   "cell_type": "markdown",
   "id": "c4300ef9",
   "metadata": {},
   "source": [
    "# Integer\n",
    "it is whole number\n",
    "eg:5,1,2,3"
   ]
  },
  {
   "cell_type": "code",
   "execution_count": 1,
   "id": "850b2e5c",
   "metadata": {},
   "outputs": [
    {
     "data": {
      "text/plain": [
       "int"
      ]
     },
     "execution_count": 1,
     "metadata": {},
     "output_type": "execute_result"
    }
   ],
   "source": [
    "type(5)"
   ]
  },
  {
   "cell_type": "markdown",
   "id": "21b71eb1",
   "metadata": {},
   "source": [
    "# Float\n",
    "Numbers with decimal point eg: 3.15,9.06\n"
   ]
  },
  {
   "cell_type": "code",
   "execution_count": 2,
   "id": "29a384b8",
   "metadata": {},
   "outputs": [
    {
     "data": {
      "text/plain": [
       "float"
      ]
     },
     "execution_count": 2,
     "metadata": {},
     "output_type": "execute_result"
    }
   ],
   "source": [
    "type(3.15)"
   ]
  },
  {
   "cell_type": "markdown",
   "id": "a43398b2",
   "metadata": {},
   "source": [
    "# complex\n",
    "numbers of the form (a+bj), where (i) is the imaginary unit and (a) and (b) are real numbers"
   ]
  },
  {
   "cell_type": "code",
   "execution_count": 3,
   "id": "36beabb5",
   "metadata": {},
   "outputs": [
    {
     "data": {
      "text/plain": [
       "complex"
      ]
     },
     "execution_count": 3,
     "metadata": {},
     "output_type": "execute_result"
    }
   ],
   "source": [
    "type(5+6j)"
   ]
  },
  {
   "cell_type": "markdown",
   "id": "3672397e",
   "metadata": {},
   "source": [
    "# String\n",
    "Alphanumeric characters eg: hello world,Alice,Bob123"
   ]
  },
  {
   "cell_type": "code",
   "execution_count": 4,
   "id": "6277477c",
   "metadata": {},
   "outputs": [
    {
     "data": {
      "text/plain": [
       "str"
      ]
     },
     "execution_count": 4,
     "metadata": {},
     "output_type": "execute_result"
    }
   ],
   "source": [
    "type(\"hello world\")"
   ]
  },
  {
   "cell_type": "markdown",
   "id": "24e9d026",
   "metadata": {},
   "source": [
    "# Boolean\n",
    "Representing logical values eg:- True,False"
   ]
  },
  {
   "cell_type": "code",
   "execution_count": 5,
   "id": "94bcfe7c",
   "metadata": {},
   "outputs": [
    {
     "data": {
      "text/plain": [
       "bool"
      ]
     },
     "execution_count": 5,
     "metadata": {},
     "output_type": "execute_result"
    }
   ],
   "source": [
    "type(True)"
   ]
  },
  {
   "cell_type": "code",
   "execution_count": 6,
   "id": "284e6095",
   "metadata": {},
   "outputs": [
    {
     "data": {
      "text/plain": [
       "bool"
      ]
     },
     "execution_count": 6,
     "metadata": {},
     "output_type": "execute_result"
    }
   ],
   "source": [
    "type(False)"
   ]
  },
  {
   "cell_type": "code",
   "execution_count": null,
   "id": "479fa499",
   "metadata": {},
   "outputs": [],
   "source": []
  }
 ],
 "metadata": {
  "kernelspec": {
   "display_name": "Python 3 (ipykernel)",
   "language": "python",
   "name": "python3"
  },
  "language_info": {
   "codemirror_mode": {
    "name": "ipython",
    "version": 3
   },
   "file_extension": ".py",
   "mimetype": "text/x-python",
   "name": "python",
   "nbconvert_exporter": "python",
   "pygments_lexer": "ipython3",
   "version": "3.11.4"
  }
 },
 "nbformat": 4,
 "nbformat_minor": 5
}
