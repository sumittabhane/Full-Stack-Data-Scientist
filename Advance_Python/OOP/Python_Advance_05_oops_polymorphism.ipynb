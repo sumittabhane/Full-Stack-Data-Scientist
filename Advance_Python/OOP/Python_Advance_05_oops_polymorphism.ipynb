{
 "cells": [
  {
   "cell_type": "markdown",
   "id": "e660bda8",
   "metadata": {},
   "source": [
    "# Polymorphism\n",
    "Polymorphism in Python refers to the ability of objects of different types to be treated as objects of a common superclass. This allows you to write code that can work with different objects without needing to know their exact type."
   ]
  },
  {
   "cell_type": "code",
   "execution_count": 6,
   "id": "6deae36b",
   "metadata": {},
   "outputs": [],
   "source": [
    "class Animal:\n",
    "    def make_sound(self):\n",
    "        print(\"Animal makes sound\")"
   ]
  },
  {
   "cell_type": "code",
   "execution_count": 7,
   "id": "02203748",
   "metadata": {},
   "outputs": [],
   "source": [
    "class Dog(Animal):\n",
    "    def make_sound(self):\n",
    "        print(\"Barks\")"
   ]
  },
  {
   "cell_type": "code",
   "execution_count": 8,
   "id": "50df75af",
   "metadata": {},
   "outputs": [],
   "source": [
    "class Cat(Animal):\n",
    "    def make_sound(self):\n",
    "        print(\"Meows\")"
   ]
  },
  {
   "cell_type": "code",
   "execution_count": 9,
   "id": "ff734ba4",
   "metadata": {},
   "outputs": [],
   "source": [
    "D=Dog()"
   ]
  },
  {
   "cell_type": "code",
   "execution_count": 10,
   "id": "22e53b74",
   "metadata": {},
   "outputs": [
    {
     "name": "stdout",
     "output_type": "stream",
     "text": [
      "Barks\n"
     ]
    }
   ],
   "source": [
    "D.make_sound()"
   ]
  },
  {
   "cell_type": "code",
   "execution_count": 11,
   "id": "f69eedf0",
   "metadata": {},
   "outputs": [],
   "source": [
    "C=Cat()"
   ]
  },
  {
   "cell_type": "code",
   "execution_count": 13,
   "id": "27814bad",
   "metadata": {},
   "outputs": [
    {
     "name": "stdout",
     "output_type": "stream",
     "text": [
      "Meows\n"
     ]
    }
   ],
   "source": [
    "C.make_sound()"
   ]
  },
  {
   "cell_type": "code",
   "execution_count": 14,
   "id": "aab7bc5b",
   "metadata": {},
   "outputs": [],
   "source": [
    "class Social_media:\n",
    "    def share_stories(self):\n",
    "        print(\"Share Stories\")\n",
    "    \n",
    "    def upload_pic(self):\n",
    "        print(\"Upload a Pic\")\n",
    "        \n",
    "class Facebook(Social_media):\n",
    "    def share_stories(self):\n",
    "        print(\"I will help you to upload story on facebook\")\n",
    "    \n",
    "    def upload_pic(self):\n",
    "        print(\"I will help you to upload pic on facebook\")\n",
    "\n",
    "class Instagram(Social_media):\n",
    "    def share_stories(self):\n",
    "        print(\"I will help you to upload story on Instagram\")\n",
    "    \n",
    "    def upload_pic(self):\n",
    "        print(\"I will help you to upload pic on Instagram\")"
   ]
  },
  {
   "cell_type": "code",
   "execution_count": 15,
   "id": "ee2bef48",
   "metadata": {},
   "outputs": [],
   "source": [
    "S1=Social_media()"
   ]
  },
  {
   "cell_type": "code",
   "execution_count": 16,
   "id": "29327ef3",
   "metadata": {},
   "outputs": [
    {
     "name": "stdout",
     "output_type": "stream",
     "text": [
      "Share Stories\n"
     ]
    }
   ],
   "source": [
    "S1.share_stories()"
   ]
  },
  {
   "cell_type": "code",
   "execution_count": 18,
   "id": "bcb788f8",
   "metadata": {},
   "outputs": [
    {
     "name": "stdout",
     "output_type": "stream",
     "text": [
      "Upload a Pic\n"
     ]
    }
   ],
   "source": [
    "S1.upload_pic()"
   ]
  },
  {
   "cell_type": "code",
   "execution_count": 19,
   "id": "af653328",
   "metadata": {},
   "outputs": [],
   "source": [
    "fb=Facebook()"
   ]
  },
  {
   "cell_type": "code",
   "execution_count": 20,
   "id": "48568a23",
   "metadata": {},
   "outputs": [
    {
     "name": "stdout",
     "output_type": "stream",
     "text": [
      "I will help you to upload story on facebook\n"
     ]
    }
   ],
   "source": [
    "fb.share_stories()"
   ]
  },
  {
   "cell_type": "code",
   "execution_count": 21,
   "id": "a573c704",
   "metadata": {},
   "outputs": [
    {
     "name": "stdout",
     "output_type": "stream",
     "text": [
      "I will help you to upload pic on facebook\n"
     ]
    }
   ],
   "source": [
    "fb.upload_pic()"
   ]
  },
  {
   "cell_type": "code",
   "execution_count": 22,
   "id": "f9a4bf22",
   "metadata": {},
   "outputs": [],
   "source": [
    "insta=Instagram()"
   ]
  },
  {
   "cell_type": "code",
   "execution_count": 24,
   "id": "b43568e6",
   "metadata": {},
   "outputs": [
    {
     "name": "stdout",
     "output_type": "stream",
     "text": [
      "I will help you to upload story on Instagram\n"
     ]
    }
   ],
   "source": [
    "insta.share_stories()"
   ]
  },
  {
   "cell_type": "code",
   "execution_count": 25,
   "id": "de24bc15",
   "metadata": {},
   "outputs": [
    {
     "name": "stdout",
     "output_type": "stream",
     "text": [
      "I will help you to upload pic on Instagram\n"
     ]
    }
   ],
   "source": [
    "insta.upload_pic()"
   ]
  },
  {
   "cell_type": "code",
   "execution_count": 27,
   "id": "e1faff82",
   "metadata": {},
   "outputs": [],
   "source": [
    "class Shape:\n",
    "    def area(self):\n",
    "        pass\n",
    "    \n",
    "class Rectangle(Shape):\n",
    "    def __init__(self,length,breadth):\n",
    "        self.length=length\n",
    "        self.breadth=breadth\n",
    "    def area(self):\n",
    "        return self.length*self.breadth\n",
    "    \n",
    "class Circle(Shape):\n",
    "    def __init__(self,radius):\n",
    "        self.radius=radius\n",
    "\n",
    "    def area(self):\n",
    "        return 3.14*(self.radius**2)"
   ]
  },
  {
   "cell_type": "code",
   "execution_count": null,
   "id": "7ad21eda",
   "metadata": {},
   "outputs": [],
   "source": []
  }
 ],
 "metadata": {
  "kernelspec": {
   "display_name": "Python 3 (ipykernel)",
   "language": "python",
   "name": "python3"
  },
  "language_info": {
   "codemirror_mode": {
    "name": "ipython",
    "version": 3
   },
   "file_extension": ".py",
   "mimetype": "text/x-python",
   "name": "python",
   "nbconvert_exporter": "python",
   "pygments_lexer": "ipython3",
   "version": "3.11.4"
  }
 },
 "nbformat": 4,
 "nbformat_minor": 5
}
