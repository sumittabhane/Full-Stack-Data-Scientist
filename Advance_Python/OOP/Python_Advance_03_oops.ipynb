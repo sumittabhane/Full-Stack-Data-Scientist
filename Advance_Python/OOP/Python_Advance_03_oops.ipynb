{
 "cells": [
  {
   "cell_type": "markdown",
   "id": "ad071c44",
   "metadata": {},
   "source": [
    "# OOPS"
   ]
  },
  {
   "cell_type": "code",
   "execution_count": 1,
   "id": "5cee7eb4",
   "metadata": {},
   "outputs": [],
   "source": [
    "class SUV_CAR:\n",
    "    def __init__(self,Bodytype,Color,Engine):\n",
    "        self.Bodytype=Bodytype #public\n",
    "        self._Color=Color # protected\n",
    "        self.__Engine=Engine #private\n",
    "    def Wiper():\n",
    "        print(\"Wiper is on\")"
   ]
  },
  {
   "cell_type": "markdown",
   "id": "2d914d2b",
   "metadata": {},
   "source": [
    "# Public Access Modifier:\n",
    "The members of a class that are declared public are easily accessible from any part of the program. All data members and member functions of a class are public by default. "
   ]
  },
  {
   "cell_type": "markdown",
   "id": "8b6f4945",
   "metadata": {},
   "source": [
    "# Protected Access Modifier:\n",
    "The members of a class that are declared protected are only accessible to a class derived from it. Data members of a class are declared protected by adding a single underscore ‘_’ symbol before the data member of that class. "
   ]
  },
  {
   "cell_type": "markdown",
   "id": "a17997f5",
   "metadata": {},
   "source": [
    "# Private Access Modifier:\n",
    "The members of a class that are declared private are accessible within the class only, private access modifier is the most secure access modifier. Data members of a class are declared private by adding a double underscore ‘__’ symbol before the data member of that class. "
   ]
  },
  {
   "cell_type": "code",
   "execution_count": 2,
   "id": "c91ac490",
   "metadata": {},
   "outputs": [],
   "source": [
    "Nexon=SUV_CAR(\"SUV\",\"RED\",1500)"
   ]
  },
  {
   "cell_type": "code",
   "execution_count": 3,
   "id": "7e1b6759",
   "metadata": {},
   "outputs": [
    {
     "data": {
      "text/plain": [
       "'SUV'"
      ]
     },
     "execution_count": 3,
     "metadata": {},
     "output_type": "execute_result"
    }
   ],
   "source": [
    "Nexon.Bodytype"
   ]
  },
  {
   "cell_type": "code",
   "execution_count": 4,
   "id": "e30a17e6",
   "metadata": {},
   "outputs": [
    {
     "data": {
      "text/plain": [
       "'RED'"
      ]
     },
     "execution_count": 4,
     "metadata": {},
     "output_type": "execute_result"
    }
   ],
   "source": [
    "Nexon._Color"
   ]
  },
  {
   "cell_type": "code",
   "execution_count": 5,
   "id": "2be359fc",
   "metadata": {},
   "outputs": [
    {
     "data": {
      "text/plain": [
       "1500"
      ]
     },
     "execution_count": 5,
     "metadata": {},
     "output_type": "execute_result"
    }
   ],
   "source": [
    "Nexon._SUV_CAR__Engine"
   ]
  },
  {
   "cell_type": "code",
   "execution_count": 6,
   "id": "fed73d79",
   "metadata": {},
   "outputs": [],
   "source": [
    "Nexon._Color= \"White\""
   ]
  },
  {
   "cell_type": "code",
   "execution_count": 9,
   "id": "afffcff4",
   "metadata": {},
   "outputs": [
    {
     "data": {
      "text/plain": [
       "'White'"
      ]
     },
     "execution_count": 9,
     "metadata": {},
     "output_type": "execute_result"
    }
   ],
   "source": [
    "Nexon._Color"
   ]
  },
  {
   "cell_type": "code",
   "execution_count": 7,
   "id": "e070a1cb",
   "metadata": {},
   "outputs": [],
   "source": [
    "Nexon._SUV_CAR__Engine=3000"
   ]
  },
  {
   "cell_type": "code",
   "execution_count": 8,
   "id": "eee705c4",
   "metadata": {},
   "outputs": [
    {
     "data": {
      "text/plain": [
       "3000"
      ]
     },
     "execution_count": 8,
     "metadata": {},
     "output_type": "execute_result"
    }
   ],
   "source": [
    "Nexon._SUV_CAR__Engine"
   ]
  },
  {
   "cell_type": "code",
   "execution_count": 23,
   "id": "8c13f460",
   "metadata": {},
   "outputs": [],
   "source": [
    "class List_parcer:\n",
    "    def __init__(self,a):\n",
    "        self.a=a\n",
    "    \n",
    "    def parcer(self):\n",
    "        if type(self.a)==list:\n",
    "            for i in self.a:\n",
    "                print(i)\n",
    "    \n",
    "    def Rev(self):\n",
    "        print(self.a[::-1])"
   ]
  },
  {
   "cell_type": "code",
   "execution_count": 24,
   "id": "a7d4e77d",
   "metadata": {},
   "outputs": [],
   "source": [
    "x=List_parcer([1,2,3,4,5,6])"
   ]
  },
  {
   "cell_type": "code",
   "execution_count": 25,
   "id": "cc669185",
   "metadata": {},
   "outputs": [
    {
     "data": {
      "text/plain": [
       "[1, 2, 3, 4, 5, 6]"
      ]
     },
     "execution_count": 25,
     "metadata": {},
     "output_type": "execute_result"
    }
   ],
   "source": [
    "x.a"
   ]
  },
  {
   "cell_type": "code",
   "execution_count": 26,
   "id": "92b1dc3c",
   "metadata": {},
   "outputs": [
    {
     "name": "stdout",
     "output_type": "stream",
     "text": [
      "1\n",
      "2\n",
      "3\n",
      "4\n",
      "5\n",
      "6\n"
     ]
    }
   ],
   "source": [
    "x.parcer()"
   ]
  },
  {
   "cell_type": "code",
   "execution_count": 28,
   "id": "6ccdc0d3",
   "metadata": {},
   "outputs": [
    {
     "name": "stdout",
     "output_type": "stream",
     "text": [
      "[6, 5, 4, 3, 2, 1]\n"
     ]
    }
   ],
   "source": [
    "x.Rev()"
   ]
  },
  {
   "cell_type": "code",
   "execution_count": 29,
   "id": "1c996f36",
   "metadata": {},
   "outputs": [],
   "source": [
    "class Even_Odd:\n",
    "    def __init__(self,a):\n",
    "        self.a=a\n",
    "        \n",
    "    def evenodd(self):\n",
    "        if self.a%2==0:\n",
    "            return (\"Even Number\")\n",
    "        else:\n",
    "            return (\"Odd Number\")"
   ]
  },
  {
   "cell_type": "code",
   "execution_count": 31,
   "id": "9cc029df",
   "metadata": {},
   "outputs": [],
   "source": [
    "obj=Even_Odd(5)"
   ]
  },
  {
   "cell_type": "code",
   "execution_count": 32,
   "id": "963a5ff8",
   "metadata": {},
   "outputs": [
    {
     "data": {
      "text/plain": [
       "'Odd Number'"
      ]
     },
     "execution_count": 32,
     "metadata": {},
     "output_type": "execute_result"
    }
   ],
   "source": [
    "obj.evenodd()"
   ]
  },
  {
   "cell_type": "code",
   "execution_count": null,
   "id": "5586182b",
   "metadata": {},
   "outputs": [],
   "source": []
  }
 ],
 "metadata": {
  "kernelspec": {
   "display_name": "Python 3 (ipykernel)",
   "language": "python",
   "name": "python3"
  },
  "language_info": {
   "codemirror_mode": {
    "name": "ipython",
    "version": 3
   },
   "file_extension": ".py",
   "mimetype": "text/x-python",
   "name": "python",
   "nbconvert_exporter": "python",
   "pygments_lexer": "ipython3",
   "version": "3.11.4"
  }
 },
 "nbformat": 4,
 "nbformat_minor": 5
}
