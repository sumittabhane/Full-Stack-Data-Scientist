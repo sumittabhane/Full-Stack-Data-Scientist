{
 "cells": [
  {
   "cell_type": "markdown",
   "id": "d0ebf866",
   "metadata": {},
   "source": [
    "# **kwargs"
   ]
  },
  {
   "cell_type": "code",
   "execution_count": 1,
   "id": "1043d793",
   "metadata": {},
   "outputs": [],
   "source": [
    "#A keyword argument is where you provide a name to the variable as you pass it into the function."
   ]
  },
  {
   "cell_type": "code",
   "execution_count": 2,
   "id": "6a2fbeaf",
   "metadata": {},
   "outputs": [],
   "source": [
    "def test1(**kwargs):\n",
    "    print(kwargs)"
   ]
  },
  {
   "cell_type": "code",
   "execution_count": 4,
   "id": "4da1d0d7",
   "metadata": {},
   "outputs": [
    {
     "name": "stdout",
     "output_type": "stream",
     "text": [
      "{'a': 10, 'b': 20}\n"
     ]
    }
   ],
   "source": [
    "test1(a=10,b=20)#return type of kwargs is dict"
   ]
  },
  {
   "cell_type": "code",
   "execution_count": 5,
   "id": "d3c6fa14",
   "metadata": {},
   "outputs": [],
   "source": [
    "def test2(a,b,*args, **kwargs):\n",
    "    return a, b, args, kwargs"
   ]
  },
  {
   "cell_type": "code",
   "execution_count": 6,
   "id": "6a0eb4db",
   "metadata": {},
   "outputs": [
    {
     "data": {
      "text/plain": [
       "(1, 2, (3, 4, 4, 5, 67), {'k': 9, 'j': 4, 'r': 4})"
      ]
     },
     "execution_count": 6,
     "metadata": {},
     "output_type": "execute_result"
    }
   ],
   "source": [
    "test2(1,2,3,4,4,5,67,k=9,j=4,r=4)"
   ]
  },
  {
   "cell_type": "code",
   "execution_count": 7,
   "id": "31a9249c",
   "metadata": {},
   "outputs": [],
   "source": [
    "def test3(**kwargs):\n",
    "    return kwargs.keys()"
   ]
  },
  {
   "cell_type": "code",
   "execution_count": 8,
   "id": "832459d7",
   "metadata": {},
   "outputs": [
    {
     "data": {
      "text/plain": [
       "dict_keys(['k', 'j', 'r'])"
      ]
     },
     "execution_count": 8,
     "metadata": {},
     "output_type": "execute_result"
    }
   ],
   "source": [
    "test3(k=9,j=4,r=4)"
   ]
  },
  {
   "cell_type": "code",
   "execution_count": 9,
   "id": "8ee630a4",
   "metadata": {},
   "outputs": [],
   "source": [
    "def test3(**kwargs):\n",
    "    return kwargs.values()"
   ]
  },
  {
   "cell_type": "code",
   "execution_count": 10,
   "id": "3ba91304",
   "metadata": {},
   "outputs": [
    {
     "data": {
      "text/plain": [
       "dict_values([9, 4, 4])"
      ]
     },
     "execution_count": 10,
     "metadata": {},
     "output_type": "execute_result"
    }
   ],
   "source": [
    "test3(k=9,j=4,r=4)"
   ]
  },
  {
   "cell_type": "markdown",
   "id": "3ffde05b",
   "metadata": {},
   "source": [
    "# Lambda function"
   ]
  },
  {
   "cell_type": "code",
   "execution_count": 11,
   "id": "ed13c02b",
   "metadata": {},
   "outputs": [],
   "source": [
    "#A lambda function is a small anonymous function."
   ]
  },
  {
   "cell_type": "code",
   "execution_count": 13,
   "id": "8f1da058",
   "metadata": {},
   "outputs": [],
   "source": [
    "#Syntax\n",
    "#lambda arguments : expression\n",
    "#lambda input : output"
   ]
  },
  {
   "cell_type": "code",
   "execution_count": 14,
   "id": "1ebdda61",
   "metadata": {},
   "outputs": [],
   "source": [
    "x= lambda i:i**2"
   ]
  },
  {
   "cell_type": "code",
   "execution_count": 15,
   "id": "02a40dfa",
   "metadata": {},
   "outputs": [
    {
     "data": {
      "text/plain": [
       "4"
      ]
     },
     "execution_count": 15,
     "metadata": {},
     "output_type": "execute_result"
    }
   ],
   "source": [
    "x(2)"
   ]
  },
  {
   "cell_type": "code",
   "execution_count": 16,
   "id": "1b4efd95",
   "metadata": {},
   "outputs": [],
   "source": [
    "h = lambda a,b:a*b"
   ]
  },
  {
   "cell_type": "code",
   "execution_count": 17,
   "id": "23175a23",
   "metadata": {},
   "outputs": [
    {
     "data": {
      "text/plain": [
       "45"
      ]
     },
     "execution_count": 17,
     "metadata": {},
     "output_type": "execute_result"
    }
   ],
   "source": [
    "h(5,9)"
   ]
  },
  {
   "cell_type": "markdown",
   "id": "0b6af628",
   "metadata": {},
   "source": [
    "# List comprehension"
   ]
  },
  {
   "cell_type": "code",
   "execution_count": 18,
   "id": "c1a8ef50",
   "metadata": {},
   "outputs": [
    {
     "data": {
      "text/plain": [
       "[0, 2, 4, 6, 8]"
      ]
     },
     "execution_count": 18,
     "metadata": {},
     "output_type": "execute_result"
    }
   ],
   "source": [
    "[i*2 for i in range(5)]"
   ]
  },
  {
   "cell_type": "code",
   "execution_count": 19,
   "id": "95e73021",
   "metadata": {},
   "outputs": [
    {
     "data": {
      "text/plain": [
       "['D', 'a', 't', 'a', 'S', 'c', 'i', 'e', 'n', 'c', 'e']"
      ]
     },
     "execution_count": 19,
     "metadata": {},
     "output_type": "execute_result"
    }
   ],
   "source": [
    "[i for i in 'DataScience']"
   ]
  },
  {
   "cell_type": "code",
   "execution_count": 20,
   "id": "0f91f0b1",
   "metadata": {},
   "outputs": [],
   "source": [
    "numbers = [1,2,3,4,5,6]"
   ]
  },
  {
   "cell_type": "code",
   "execution_count": 21,
   "id": "bcd24978",
   "metadata": {},
   "outputs": [
    {
     "name": "stdout",
     "output_type": "stream",
     "text": [
      "4\n",
      "16\n",
      "36\n"
     ]
    }
   ],
   "source": [
    "#even sq\n",
    "for i in numbers:\n",
    "    if i%2 == 0:\n",
    "        print(i**2)"
   ]
  },
  {
   "cell_type": "code",
   "execution_count": 22,
   "id": "946dd040",
   "metadata": {},
   "outputs": [
    {
     "data": {
      "text/plain": [
       "[4, 16, 36]"
      ]
     },
     "execution_count": 22,
     "metadata": {},
     "output_type": "execute_result"
    }
   ],
   "source": [
    "[i**2 for i in numbers if i%2==0]"
   ]
  },
  {
   "cell_type": "markdown",
   "id": "e2105c0a",
   "metadata": {},
   "source": [
    "# Dict Comprehension"
   ]
  },
  {
   "cell_type": "code",
   "execution_count": 23,
   "id": "4e6a6d0a",
   "metadata": {},
   "outputs": [
    {
     "data": {
      "text/plain": [
       "{0: 0, 1: 1, 2: 2, 3: 3, 4: 4}"
      ]
     },
     "execution_count": 23,
     "metadata": {},
     "output_type": "execute_result"
    }
   ],
   "source": [
    "\n",
    "{i:i for i in range(5)}"
   ]
  },
  {
   "cell_type": "code",
   "execution_count": 25,
   "id": "8eac7772",
   "metadata": {},
   "outputs": [
    {
     "data": {
      "text/plain": [
       "(0, 1, 2, 3)"
      ]
     },
     "execution_count": 25,
     "metadata": {},
     "output_type": "execute_result"
    }
   ],
   "source": [
    "tuple(i for i in range(4))"
   ]
  },
  {
   "cell_type": "code",
   "execution_count": 26,
   "id": "0825cccb",
   "metadata": {},
   "outputs": [
    {
     "data": {
      "text/plain": [
       "<generator object <genexpr> at 0x000002DAB5A74E10>"
      ]
     },
     "execution_count": 26,
     "metadata": {},
     "output_type": "execute_result"
    }
   ],
   "source": [
    "(i for i in range(4))"
   ]
  },
  {
   "cell_type": "markdown",
   "id": "e2b780d8",
   "metadata": {},
   "source": []
  },
  {
   "cell_type": "code",
   "execution_count": null,
   "id": "e89b424e",
   "metadata": {},
   "outputs": [],
   "source": []
  }
 ],
 "metadata": {
  "kernelspec": {
   "display_name": "Python 3 (ipykernel)",
   "language": "python",
   "name": "python3"
  },
  "language_info": {
   "codemirror_mode": {
    "name": "ipython",
    "version": 3
   },
   "file_extension": ".py",
   "mimetype": "text/x-python",
   "name": "python",
   "nbconvert_exporter": "python",
   "pygments_lexer": "ipython3",
   "version": "3.11.4"
  }
 },
 "nbformat": 4,
 "nbformat_minor": 5
}
