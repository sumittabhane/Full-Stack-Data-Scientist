{
 "cells": [
  {
   "cell_type": "code",
   "execution_count": 2,
   "id": "a3525243",
   "metadata": {},
   "outputs": [
    {
     "data": {
      "text/plain": [
       "True"
      ]
     },
     "execution_count": 2,
     "metadata": {},
     "output_type": "execute_result"
    }
   ],
   "source": [
    "40>30"
   ]
  },
  {
   "cell_type": "code",
   "execution_count": 3,
   "id": "8756adbf",
   "metadata": {},
   "outputs": [
    {
     "name": "stdout",
     "output_type": "stream",
     "text": [
      "Enter your marks50\n",
      "Pass\n"
     ]
    }
   ],
   "source": [
    "marks = int(input('Enter your marks'))\n",
    "if marks > 35:\n",
    "    print('Pass')\n",
    "else:\n",
    "    print('Fail')"
   ]
  },
  {
   "cell_type": "code",
   "execution_count": 4,
   "id": "8919cc08",
   "metadata": {},
   "outputs": [
    {
     "name": "stdout",
     "output_type": "stream",
     "text": [
      "Enter your marks30\n",
      "Fail\n"
     ]
    }
   ],
   "source": [
    "marks = int(input('Enter your marks'))\n",
    "if marks > 35:\n",
    "    print('Pass')\n",
    "else:\n",
    "    print('Fail')"
   ]
  },
  {
   "cell_type": "code",
   "execution_count": 6,
   "id": "2792231b",
   "metadata": {},
   "outputs": [
    {
     "name": "stdout",
     "output_type": "stream",
     "text": [
      "Enter your age :15\n",
      "You are not Eligible to vote\n"
     ]
    }
   ],
   "source": [
    "age = int(input('Enter your age :'))\n",
    "if age > 18:\n",
    "    print('Eligible to vote')\n",
    "else:\n",
    "    print('You are not Eligible to vote')"
   ]
  },
  {
   "cell_type": "code",
   "execution_count": 7,
   "id": "6370ca01",
   "metadata": {},
   "outputs": [
    {
     "name": "stdout",
     "output_type": "stream",
     "text": [
      "Enter your age :21\n",
      "Eligible to vote\n"
     ]
    }
   ],
   "source": [
    "age = int(input('Enter your age :'))\n",
    "if age > 18:\n",
    "    print('Eligible to vote')\n",
    "else:\n",
    "    print('You are not Eligible to vote')"
   ]
  },
  {
   "cell_type": "code",
   "execution_count": 8,
   "id": "c8c2e35a",
   "metadata": {},
   "outputs": [
    {
     "name": "stdout",
     "output_type": "stream",
     "text": [
      "Enter your course nameUIUX\n",
      "We dont have that course\n"
     ]
    }
   ],
   "source": [
    "course = input('Enter your course name')\n",
    "if course == 'Data Science':\n",
    "    print('Data science course is available')\n",
    "else:\n",
    "    print('We dont have that course')"
   ]
  },
  {
   "cell_type": "code",
   "execution_count": 9,
   "id": "1cbd572e",
   "metadata": {},
   "outputs": [
    {
     "name": "stdout",
     "output_type": "stream",
     "text": [
      "Enter your course name :Data Science\n",
      "Data science course is available\n"
     ]
    }
   ],
   "source": [
    "course = input('Enter your course name :')\n",
    "if course == 'Data Science':\n",
    "    print('Data science course is available')\n",
    "else:\n",
    "    print('We dont have that course')"
   ]
  },
  {
   "cell_type": "code",
   "execution_count": null,
   "id": "ee578274",
   "metadata": {},
   "outputs": [],
   "source": []
  }
 ],
 "metadata": {
  "kernelspec": {
   "display_name": "Python 3 (ipykernel)",
   "language": "python",
   "name": "python3"
  },
  "language_info": {
   "codemirror_mode": {
    "name": "ipython",
    "version": 3
   },
   "file_extension": ".py",
   "mimetype": "text/x-python",
   "name": "python",
   "nbconvert_exporter": "python",
   "pygments_lexer": "ipython3",
   "version": "3.11.4"
  }
 },
 "nbformat": 4,
 "nbformat_minor": 5
}
